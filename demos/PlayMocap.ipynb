{
 "cells": [
  {
   "cell_type": "code",
   "execution_count": 1,
   "metadata": {},
   "outputs": [],
   "source": [
    "%matplotlib inline\n",
    "%load_ext autoreload\n",
    "# %load_ext toc2\n",
    "%autoreload 2\n",
    "\n",
    "import matplotlib\n",
    "import matplotlib.pyplot as plt\n",
    "from mpl_toolkits.mplot3d import Axes3D\n",
    "\n",
    "import tensorflow as tf\n",
    "import numpy as np\n",
    "import pandas as pd\n",
    "from sklearn.pipeline import Pipeline\n",
    "from sklearn.preprocessing import StandardScaler\n",
    "import pickle\n",
    "import itertools\n",
    "from datetime import datetime\n",
    "\n",
    "\n",
    "import glob\n",
    "import os\n",
    "import sys\n",
    "module_path = os.path.abspath(os.path.join('..'))\n",
    "if module_path not in sys.path:\n",
    "    sys.path.append(module_path)\n",
    "    \n",
    "import IPython\n",
    "\n",
    "from pymo.parsers import BVHParser\n",
    "from pymo.preprocessing import *\n",
    "from pymo.viz_tools import *\n",
    "from pymo.writers import *"
   ]
  },
  {
   "cell_type": "code",
   "execution_count": 14,
   "metadata": {},
   "outputs": [],
   "source": [
    "p = BVHParser()\n",
    "\n",
    "# data_all = [p.parse('./data/AV_8Walk_Meredith_HVHA_Rep1.bvh')]\n",
    "data_all = [p.parse('./data/kaya/Back Squat.bvh')]"
   ]
  },
  {
   "cell_type": "code",
   "execution_count": 15,
   "metadata": {},
   "outputs": [],
   "source": [
    "BVH2Pos = MocapParameterizer('position')\n",
    "data_pos = BVH2Pos.fit_transform(data_all)"
   ]
  },
  {
   "cell_type": "code",
   "execution_count": 16,
   "metadata": {},
   "outputs": [],
   "source": [
    "mocap = data_pos[0]\n",
    "\n",
    "data_template = 'var dataBuffer = `$$DATA$$`;'\n",
    "data_template += 'var metadata = $$META$$;'\n",
    "data_template += 'start(dataBuffer, metadata, $$CZ$$, $$SCALE$$, $$FRAMETIME$$);'\n",
    "dir_path = '/home/whitealex95/Clones/PyMO/pymo'\n",
    "\n",
    "cols = list(mocap.values.columns)\n",
    "# print(type(cols), len(cols))# cols: Channels for position\n",
    "for c in cols:\n",
    "    if 'rotation' in c:\n",
    "        cols.remove(c)\n",
    "data_csv = mocap.values.to_csv(index=False, columns=cols)\n",
    "# data_csv_tmp = data_csv.split(',')\n",
    "# print(len([ t for t in data_csv_tmp if 'position' not in t ]), data_csv_tmp)  # 90 + 94696\n"
   ]
  },
  {
   "cell_type": "code",
   "execution_count": 17,
   "metadata": {},
   "outputs": [
    {
     "name": "stdout",
     "output_type": "stream",
     "text": [
      "/home/whitealex95/Clones/PyMO/pymo\n"
     ]
    },
    {
     "data": {
      "text/html": [
       "<iframe frameborder=\"0\" src=../pymo/mocapplayer/playBuffer.html?&cz=200&order=xzyi&frame_time=0.008333&scale=2.000000 width=\"100%\" height=500></iframe><a href=../pymo/mocapplayer/playBuffer.html?&cz=200&order=xzyi&frame_time=0.008333&scale=2.000000 target=\"_blank\">New Window</a>"
      ],
      "text/plain": [
       "<IPython.core.display.HTML object>"
      ]
     },
     "execution_count": 17,
     "metadata": {},
     "output_type": "execute_result"
    }
   ],
   "source": [
    "nb_play_mocap(data_pos[0], 'pos', \n",
    "              scale=2, camera_z=800, frame_time=1/120, \n",
    "              base_url='../pymo/mocapplayer/playBuffer.html')"
   ]
  },
  {
   "cell_type": "code",
   "execution_count": 18,
   "metadata": {
    "scrolled": false
   },
   "outputs": [
    {
     "data": {
      "text/html": [
       "<iframe src=/files/pymo/mocapplayer/playURL.html?data_url=/files/demos/test.bvh&scale=6.000000&cz=200&order=xzyi&frame_time=0.008333 width=\"100%\" height=500></iframe><a href=/files/pymo/mocapplayer/playURL.html?data_url=/files/demos/test.bvh&scale=6.000000&cz=200&order=xzyi&frame_time=0.008333 target=\"_blank\">New Window</a>"
      ],
      "text/plain": [
       "<IPython.core.display.HTML object>"
      ]
     },
     "execution_count": 18,
     "metadata": {},
     "output_type": "execute_result"
    }
   ],
   "source": [
    "nb_play_mocap_fromurl(data_all[0], 'bvh', \n",
    "              scale=6, frame_time=1/120, \n",
    "              base_url='/files/pymo/mocapplayer/playURL.html')"
   ]
  },
  {
   "cell_type": "code",
   "execution_count": 19,
   "metadata": {},
   "outputs": [
    {
     "data": {
      "text/html": [
       "<iframe src=/files/pymo/mocapplayer/playURL.html?data_url=/files/demos/test.bvh&scale=20.000000&cz=200&order=xzyi&frame_time=0.008333 width=\"100%\" height=500></iframe><a href=/files/pymo/mocapplayer/playURL.html?data_url=/files/demos/test.bvh&scale=20.000000&cz=200&order=xzyi&frame_time=0.008333 target=\"_blank\">New Window</a>"
      ],
      "text/plain": [
       "<IPython.core.display.HTML object>"
      ]
     },
     "execution_count": 19,
     "metadata": {},
     "output_type": "execute_result"
    }
   ],
   "source": [
    "nb_play_charamocap_fromurl(mocap = data_all[0],obj=None, skin = None,\n",
    "                          mf = 'bvh', scale=20, frame_time=1/120, \n",
    "                          base_url='/files/pymo/mocapplayer/playURL.html')\n"
   ]
  },
  {
   "cell_type": "code",
   "execution_count": null,
   "metadata": {},
   "outputs": [],
   "source": []
  }
 ],
 "metadata": {
  "kernelspec": {
   "display_name": "Python 3",
   "language": "python",
   "name": "python3"
  },
  "language_info": {
   "codemirror_mode": {
    "name": "ipython",
    "version": 3
   },
   "file_extension": ".py",
   "mimetype": "text/x-python",
   "name": "python",
   "nbconvert_exporter": "python",
   "pygments_lexer": "ipython3",
   "version": "3.7.7"
  }
 },
 "nbformat": 4,
 "nbformat_minor": 2
}
